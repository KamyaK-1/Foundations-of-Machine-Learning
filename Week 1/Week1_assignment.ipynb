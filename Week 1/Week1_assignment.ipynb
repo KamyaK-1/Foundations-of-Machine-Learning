{
 "cells": [
  {
   "cell_type": "code",
   "execution_count": 2,
   "id": "dccf6a45-f9ea-4ada-adb6-00dbb86e71e8",
   "metadata": {},
   "outputs": [],
   "source": [
    "import numpy as np"
   ]
  },
  {
   "cell_type": "markdown",
   "id": "416a664f-4f75-45e0-849c-91c0dd332e3b",
   "metadata": {},
   "source": [
    "## Initializing Arrays"
   ]
  },
  {
   "cell_type": "markdown",
   "id": "d3f29c20-9607-4ef5-bc1a-c86c9255a09b",
   "metadata": {},
   "source": [
    "NumPy offers various ways to create and initialize arrays. You may have learned about a few of them. \n",
    "\n",
    "\n",
    "Here are some problems to test your knowledge. \n",
    "\n",
    "- Start by creating a $(2 \\times 3)$ array identical to\n",
    "\n",
    "\\begin{bmatrix}\n",
    "1 & 2 & 4 \\\\\n",
    "7 & 13 & 21\n",
    "\\end{bmatrix} \n",
    "&nbsp;&nbsp;&nbsp;&nbsp;&nbsp;&nbsp;&nbsp;&nbsp;   and assign it to a variable `arr`."
   ]
  },
  {
   "cell_type": "code",
   "execution_count": null,
   "id": "e137b9ae-8888-43cc-857f-687bcc8e56b1",
   "metadata": {},
   "outputs": [],
   "source": [
    "\n",
    "# Write your code below\n",
    "\n",
    "print(arr.shape) \n",
    "# Note that shape is a property of a numpy array and not a function"
   ]
  },
  {
   "cell_type": "markdown",
   "id": "e475b43c-3ef5-45d5-9e58-95de9b46bccf",
   "metadata": {},
   "source": [
    "The `shape` property of an array gives you the dimensions of an array. Checking the dimensions is often a useful debugging technique when working with complex code, as it helps ensure that arrays are shaped as expected.\n",
    "\n",
    "- Create an array of size $(n \\times m)$ with each value being equal to 7."
   ]
  },
  {
   "cell_type": "code",
   "execution_count": null,
   "id": "f6212c2c-a54e-44ca-ab5e-6b9dac16c050",
   "metadata": {},
   "outputs": [],
   "source": [
    "n = 5\n",
    "m = 7\n",
    "\n",
    "# Write your code below"
   ]
  },
  {
   "cell_type": "markdown",
   "id": "0c6fb53d-05b8-4899-8f6c-3f217cfcb519",
   "metadata": {},
   "source": [
    "Here are a few more exercises. Do check out the numpy documentation if you face any difficulties."
   ]
  },
  {
   "cell_type": "code",
   "execution_count": null,
   "id": "c409ee2a-b488-4541-8330-f7a66066e0af",
   "metadata": {},
   "outputs": [],
   "source": [
    "# Create a matrix RANDOM_ARR of dimensions 4*3*4 , initialized with random values\n",
    "\n",
    "# Your code goes here\n",
    "\n",
    "print(RANDOM_ARR)\n",
    "\n",
    "\n",
    "# Create an identity matrix of size n * n (Check your output for different values of n)\n",
    "n = 3\n",
    "\n",
    "print(EYE)"
   ]
  },
  {
   "cell_type": "markdown",
   "id": "6c280dcd",
   "metadata": {},
   "source": [
    "You can also change the shape of arrays using `array.reshape()` function.\n",
    "Here are a few problems based on it."
   ]
  },
  {
   "cell_type": "code",
   "execution_count": null,
   "id": "18d0600c",
   "metadata": {},
   "outputs": [],
   "source": [
    "y = np.array([[1,2,3],[4,5,6]])\n",
    "\n",
    "# Create a new array y_transpose which is the transpose of y.\n",
    "\n",
    "# Code goes here\n",
    "\n",
    "\n",
    "print(y_transpose)\n",
    "\n",
    "# Now create an array y_flattened which is a 1D-array with the same elements as y.\n",
    "\n",
    "# Code goes here\n",
    "\n",
    "print(y_flattened)\n",
    "\n",
    "\n",
    "# It turns out that there are much more direct ways to flatten or transpose an array in numpy. \n",
    "\n",
    "y_transpose = y.T\n",
    "y_flattened = y.flatten()\n",
    "\n",
    "print(y_transpose)\n",
    "print(y_flattened)\n",
    "# Check that the output is the same as before\n",
    "# You should still try to solve the above two exercises just using the reshape function"
   ]
  },
  {
   "cell_type": "markdown",
   "id": "cc0dbeba",
   "metadata": {},
   "source": [
    "One fun fact about the `reshape` functionality is that you need not mention the number of elements across all the dimensions. You can skip one dimension, as it will be automatically calculated based on the number of elements in the other dimensions.. Still confused ? here's a sweet example."
   ]
  },
  {
   "cell_type": "code",
   "execution_count": 6,
   "id": "b5127ae1",
   "metadata": {},
   "outputs": [
    {
     "name": "stdout",
     "output_type": "stream",
     "text": [
      "(1, 420)\n"
     ]
    }
   ],
   "source": [
    "arr = np.random.randint(1,10,size=(4,5,7,3))\n",
    "\n",
    "# Let's say I want to change this matrix to a column vector. \n",
    "# It's pretty obvious that the new numpy array must have 2 dimensions and one of them is 1 (Since it's a column vector).\n",
    "# This means I can skip the number of elements in other dimension (Numpy can calculate this on its own) and instead write -1 for ease\n",
    "\n",
    "arr_new = arr.reshape(1,-1)\n",
    "print(arr_new.shape)"
   ]
  },
  {
   "cell_type": "code",
   "execution_count": null,
   "id": "e4612531",
   "metadata": {},
   "outputs": [],
   "source": [
    "# What's the easiest way to create an array with shape (3,4) that is the same as\n",
    "# the same array in the statement below?\n",
    "# np.array([[1,2,3,4],[5,6,7,8],[9,10,11,12]])\n",
    "arr = \n",
    "\n",
    "# numpy.ndarray is a homogeneous array, which means every array has a\n",
    "# particular data type. What datatype does \"arr\" have?\n",
    "print(arr.dtype)"
   ]
  },
  {
   "cell_type": "code",
   "execution_count": 8,
   "id": "44d7c2f7",
   "metadata": {},
   "outputs": [
    {
     "data": {
      "text/plain": [
       "array([0.1       , 0.18888889, 0.27777778, 0.36666667, 0.45555556,\n",
       "       0.54444444, 0.63333333, 0.72222222, 0.81111111, 0.9       ])"
      ]
     },
     "execution_count": 8,
     "metadata": {},
     "output_type": "execute_result"
    }
   ],
   "source": [
    "# Another very useful function is numpy.linspace that generates an array of equally spaced numbers over any given interval.\n",
    "\n",
    "start = 0.1\n",
    "end =   0.9\n",
    "np.linspace(start,end,num=10,endpoint=True,axis=0)"
   ]
  },
  {
   "cell_type": "markdown",
   "id": "1a5e2a54",
   "metadata": {},
   "source": [
    "## Slicing"
   ]
  },
  {
   "cell_type": "code",
   "execution_count": null,
   "id": "0eb3c9a1",
   "metadata": {},
   "outputs": [],
   "source": [
    "# Akin to a regular list, we can slice numpy arrays as well, in various ways\n",
    "# Note that indexing starts at 0 (similar to C), and that the last index is not included\n",
    "\n",
    "arr1 = np.array([1,2,3,4,5])\n",
    "\n",
    "print(arr1)\n",
    "print(arr1[0:5])\n",
    "print(arr1[0:4])\n",
    "print(arr1[0:4:1])\n",
    "print(arr1[0:4:2])\n",
    "print(arr1[::-1])"
   ]
  },
  {
   "cell_type": "code",
   "execution_count": null,
   "id": "9dcd6679",
   "metadata": {},
   "outputs": [],
   "source": [
    "# Unlike normal Python lists, you could slice multi-dimensional arrays too.\n",
    "arr = np.arange(40).reshape(4,-1)\n",
    "print(arr)\n",
    "print(arr[1:4,2:5])\n",
    "\n",
    "# Try changing the above values to get a better understanding of slicing in numpy arrays "
   ]
  },
  {
   "cell_type": "markdown",
   "id": "57494e86",
   "metadata": {},
   "source": [
    "You can learn about slicing [here](https://www.programiz.com/python-programming/numpy/array-slicing)"
   ]
  },
  {
   "cell_type": "markdown",
   "id": "4493ec77",
   "metadata": {},
   "source": [
    "## Copies"
   ]
  },
  {
   "cell_type": "code",
   "execution_count": null,
   "id": "e404f002",
   "metadata": {},
   "outputs": [],
   "source": [
    "# Try running this piece of code. Is the output the same as the one you expected?\n",
    "\n",
    "arr = np.random.randint(10,shape=6) # Shape can be an integer (for a 1D array) or a tuple (for Multi-Dimensional Arrays)\n",
    "print(arr)\n",
    "\n",
    "new_arr = arr\n",
    "\n",
    "arr[0] = 100\n",
    "print(arr)\n",
    "print(new_arr)\n",
    "\n"
   ]
  },
  {
   "cell_type": "code",
   "execution_count": null,
   "id": "92dde8d2",
   "metadata": {},
   "outputs": [],
   "source": [
    "# When you assign an array to a new variable in Python (using =), it does not create a copy of the original array. \n",
    "# Instead, it creates a reference to the same memory location. \n",
    "# This means that any changes made to the new variable (new_arr in this case) will also affect the original variable (arr), as they both point to the same data.\n",
    "\n",
    "\n",
    "# The interesting question now is how do you create a copy of an array which is completely independent of the original array.\n",
    "# Luckily, numpy provides a function called copy() which does exactly that.\n",
    "\n",
    "arr = np.random.randint(10,size=6)\n",
    "print(arr)\n",
    "\n",
    "new_arr = arr.copy()\n",
    "arr[0] = -39\n",
    "print(arr)\n",
    "print(new_arr)"
   ]
  },
  {
   "cell_type": "markdown",
   "id": "6d993f1b",
   "metadata": {},
   "source": [
    "## Random Number Generation"
   ]
  },
  {
   "cell_type": "markdown",
   "id": "64a5e871",
   "metadata": {},
   "source": [
    "Random numbers generation is an important tool in data science. It is used to generate random events during simulations."
   ]
  },
  {
   "cell_type": "code",
   "execution_count": null,
   "id": "93f0c980",
   "metadata": {},
   "outputs": [],
   "source": [
    "# Create an array of shape (3,4) containing random numbers from 0 to 1\n",
    "\n",
    "# Your code goes here\n",
    "\n",
    "print(arr)\n",
    "\n",
    "# Try running the above code multiple times. Do you see the same output every time?\n",
    "# Can you keep the output the same every time you run the code?"
   ]
  },
  {
   "cell_type": "code",
   "execution_count": null,
   "id": "bfd9b130",
   "metadata": {},
   "outputs": [],
   "source": [
    "# The reason you see different outputs every time is because the random numbers are generated using a seed. \n",
    "# The seed is the starting point for the random number generator algorithm and its value determines the sequence of random numbers generated.\n",
    "# By default, the seed is set to None, which means that the random number generator uses the current system time as the seed.\n",
    "\n",
    "# But you can bypass this behaviour. You can set the seed to a specific value using the np.random.seed() function\n",
    "\n",
    "np.random.seed(31) # The seed can be set to any integer between 0 and 2**32 - 1\n",
    "\n",
    "\n",
    "# Copy the code from the previous cell here and run this cell multiple times. What do you observe now?\n",
    "print(arr)\n"
   ]
  },
  {
   "cell_type": "code",
   "execution_count": null,
   "id": "ac1c900d",
   "metadata": {},
   "outputs": [],
   "source": [
    "# Create an array of shape (2,4) which contains random integers from the range [5,12]\n",
    "# Hint: Use np.random.randint()"
   ]
  },
  {
   "cell_type": "markdown",
   "id": "259e3d8f",
   "metadata": {},
   "source": [
    "The `numpy.random` library provides a lot of other functionalities too. Like shuffling an array, or choosing a random value from one. \n",
    "\n",
    "\n",
    "It also allows you to sample numbers from various other distributions like Normal Distribution, Binomial Distribution and many more.\n",
    "\n",
    "\n",
    "You can learn more about it [here](https://numpy.org/doc/stable/reference/random/legacy.html)"
   ]
  },
  {
   "cell_type": "markdown",
   "id": "60ef00d4",
   "metadata": {},
   "source": [
    "## Aggregation Functions"
   ]
  },
  {
   "cell_type": "code",
   "execution_count": 21,
   "id": "54f582c2",
   "metadata": {},
   "outputs": [
    {
     "name": "stdout",
     "output_type": "stream",
     "text": [
      "45\n"
     ]
    }
   ],
   "source": [
    "arr = np.arange(10).reshape(2,5)\n",
    "\n",
    "print(arr.sum())"
   ]
  },
  {
   "cell_type": "code",
   "execution_count": null,
   "id": "ad29984f",
   "metadata": {},
   "outputs": [],
   "source": [
    "# Similar to .sum() there are a lot of other functions that can be used on numpy arrays. Few of them are listed below\n",
    "\n",
    "print(arr.mean())\n",
    "print(arr.std())\n",
    "print(arr.min())\n",
    "\n",
    "# Run this cell and check the output"
   ]
  },
  {
   "cell_type": "code",
   "execution_count": 31,
   "id": "658fee85",
   "metadata": {},
   "outputs": [
    {
     "name": "stdout",
     "output_type": "stream",
     "text": [
      "[[ 1  2  9]\n",
      " [ 3  4  5]\n",
      " [-3  8  7]] \n",
      "\n",
      "\n",
      "[3 8 9] \n",
      "\n",
      "\n",
      "[9 5 8] \n",
      "\n",
      "\n",
      "9 -3 4.0\n"
     ]
    }
   ],
   "source": [
    "# Things get a little interesting when you want to use these operations on Multi-Dimensional arrays.\n",
    "\n",
    "arr = np.array([[1,2,9],\n",
    "                [3,4,5],\n",
    "                [-3,8,7]])\n",
    "print(arr,\"\\n\\n\")\n",
    "\n",
    "print(arr.max(axis=0),\"\\n\\n\")\n",
    "\n",
    "print(arr.max(axis=1),\"\\n\\n\")\n",
    "\n",
    "# In the case of multi-dimensional arrays, the above functions can take an additional parameter 'axis'\n",
    "# to define the dimension along which the operation is to be performed.\n",
    "\n",
    "# You can also run the above functions without the axis parameter to get the result for the entire array as if it were a 1D array.\n",
    "\n",
    "print(arr.max(),arr.min(),arr.mean())"
   ]
  },
  {
   "cell_type": "markdown",
   "id": "aad1cd7f",
   "metadata": {},
   "source": [
    "## Broadcasting"
   ]
  },
  {
   "cell_type": "markdown",
   "id": "7c4b71a1",
   "metadata": {},
   "source": [
    "Numpy is much faster than matrix operations that you could code. Here are a few reasons\n",
    "\n",
    "1. It executes C code rather than using Python functions which are quite slow.\n",
    "\n",
    "\n",
    "2. All elements in a Numpy Array are of same datatype which is not the case with Python lists or tuples.\n",
    "\n",
    "\n",
    "3. It stores the elements in a flattened array even if the array declared had multiple dimensions."
   ]
  },
  {
   "cell_type": "markdown",
   "id": "70bc13cd",
   "metadata": {},
   "source": [
    "The true strength of NumPy lies in its ability to seamlessly perform arithmetic operations between arrays, between arrays and scalars, and more.\n",
    "\n",
    "For a detailed explanation of broadcasting, check out the following link: [Broadcasting in NumPy](https://numpy.org/doc/stable/user/basics.broadcasting.html)."
   ]
  },
  {
   "cell_type": "code",
   "execution_count": null,
   "id": "b9d1fdc0",
   "metadata": {},
   "outputs": [],
   "source": [
    "# Let's see what happens when we multiply an array with\n",
    "# 1) a scalar\n",
    "# 2) an array of same shape\n",
    "\n",
    "arr1 = np.array([1,2,3])\n",
    "arr2 = np.array([4,5,6])\n",
    "print(arr1,\"\\n-----\")\n",
    "\n",
    "print(arr1*2,\"\\n-----\")  # Scalar multiplication\n",
    "print(arr1*arr2)           # Element-wise multiplication\n",
    "\n",
    "\n",
    "# Observe the outputs of the code above.\n",
    "# Now think of a way to create arr_square which is the square of each element of arr.\n",
    "\n",
    "arr = np.random.randint(12,size=3)\n",
    "\n",
    "print(arr)\n",
    "\n",
    "# Your code goes here\n",
    "\n",
    "arr_square = \n",
    "\n",
    "print(arr_square)"
   ]
  },
  {
   "cell_type": "code",
   "execution_count": null,
   "id": "893463c7",
   "metadata": {},
   "outputs": [],
   "source": [
    "# Just like the multiplication operator, you can use the addition, subtraction, division, and exponentiation operators with constants on numpy arrays as well.\n",
    "\n",
    "arr = np.arange(12).reshape(3,4)\n",
    "\n",
    "print(arr)\n",
    "print(arr+1)\n",
    "print(arr-1)\n",
    "print(arr*2)\n",
    "print(arr/2)\n",
    "print(arr//2)\n",
    "print(arr**3)"
   ]
  },
  {
   "cell_type": "code",
   "execution_count": null,
   "id": "124be416",
   "metadata": {},
   "outputs": [],
   "source": [
    "arr1 = np.array([1,2,3,4])\n",
    "print(arr*arr1)\n",
    "\n",
    "\n",
    "arr2 = np.array([7,2,5,8])\n",
    "print(arr2*arr)"
   ]
  },
  {
   "cell_type": "markdown",
   "id": "5c767c9f",
   "metadata": {},
   "source": [
    "### When performing operations between arrays of different shapes, NumPy applies the following rules:\n",
    "\n",
    "Match dimensions starting from the rightmost axis.\n",
    "If dimensions don’t match:\n",
    "1. A dimension with size 1 can be stretched to match the other array's size.\n",
    "2. If dimensions cannot align (and no size is 1), broadcasting fails, raising a ValueError."
   ]
  },
  {
   "cell_type": "code",
   "execution_count": null,
   "id": "03402cb5",
   "metadata": {},
   "outputs": [],
   "source": [
    "# Try to figure out what happens in the following example\n",
    "arr1 = np.arange(12).reshape(3,4)\n",
    "arr2 = np.arange(4)\n",
    "print(arr1,\"\\n\")\n",
    "print(arr2,\"\\n\")\n",
    "\n",
    "print(arr1+arr2)"
   ]
  },
  {
   "cell_type": "code",
   "execution_count": null,
   "id": "0b0a21ce",
   "metadata": {},
   "outputs": [],
   "source": [
    "# Can you explain why the following code throws an error?\n",
    "arr3 = np.arange(12).reshape(3,4)\n",
    "arr4 = np.arange(3)\n",
    "print(arr3,\"\\n\")\n",
    "print(arr4,\"\\n\")\n",
    "\n",
    "print(arr3+arr4)"
   ]
  }
 ],
 "metadata": {
  "kernelspec": {
   "display_name": "py27",
   "language": "python",
   "name": "python3"
  },
  "language_info": {
   "codemirror_mode": {
    "name": "ipython",
    "version": 3
   },
   "file_extension": ".py",
   "mimetype": "text/x-python",
   "name": "python",
   "nbconvert_exporter": "python",
   "pygments_lexer": "ipython3",
   "version": "3.12.2"
  }
 },
 "nbformat": 4,
 "nbformat_minor": 5
}
