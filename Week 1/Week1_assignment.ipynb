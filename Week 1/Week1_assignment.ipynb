{
 "cells": [
  {
   "cell_type": "code",
   "execution_count": 1,
   "id": "dccf6a45-f9ea-4ada-adb6-00dbb86e71e8",
   "metadata": {},
   "outputs": [],
   "source": [
    "import numpy as np"
   ]
  },
  {
   "cell_type": "markdown",
   "id": "416a664f-4f75-45e0-849c-91c0dd332e3b",
   "metadata": {},
   "source": [
    "## Initializing Arrays"
   ]
  },
  {
   "cell_type": "markdown",
   "id": "d3f29c20-9607-4ef5-bc1a-c86c9255a09b",
   "metadata": {},
   "source": [
    "NumPy offers various ways to create and initialize arrays. You may have learned about a few of them. \n",
    "\n",
    "\n",
    "Here are some problems to test your knowledge. \n",
    "\n",
    "- Start by creating a $(2 \\times 3)$ array identical to\n",
    "\n",
    "\\begin{bmatrix}\n",
    "1 & 2 & 4 \\\\\n",
    "7 & 13 & 21\n",
    "\\end{bmatrix} and assign it to a variable `arr`."
   ]
  },
  {
   "cell_type": "code",
   "execution_count": null,
   "id": "e137b9ae-8888-43cc-857f-687bcc8e56b1",
   "metadata": {},
   "outputs": [],
   "source": [
    "\n",
    "# Write your code below\n",
    "\n",
    "print(arr.shape) \n",
    "# Note that shape is a property of a numpy array and not a function"
   ]
  },
  {
   "cell_type": "markdown",
   "id": "e475b43c-3ef5-45d5-9e58-95de9b46bccf",
   "metadata": {},
   "source": [
    "The `shape` property of an array gives you the dimensions of an array. Checking the dimensions is often a useful debugging technique when working with complex code, as it helps ensure that arrays are shaped as expected.\n",
    "\n",
    "- Create an array of size $(n \\times m)$ with each value being equal to 7."
   ]
  },
  {
   "cell_type": "code",
   "execution_count": null,
   "id": "f6212c2c-a54e-44ca-ab5e-6b9dac16c050",
   "metadata": {},
   "outputs": [],
   "source": [
    "n = 5\n",
    "m = 7\n",
    "\n",
    "# Write your code below"
   ]
  },
  {
   "cell_type": "markdown",
   "id": "0c6fb53d-05b8-4899-8f6c-3f217cfcb519",
   "metadata": {},
   "source": [
    "Here are a few more exercises. Do check out the numpy documentation if you face any difficulties."
   ]
  },
  {
   "cell_type": "code",
   "execution_count": null,
   "id": "c409ee2a-b488-4541-8330-f7a66066e0af",
   "metadata": {},
   "outputs": [],
   "source": [
    "# Create a matrix RANDOM_ARR of dimensions 4*3*4 , initialized with random values\n",
    "\n",
    "# Your code goes here\n",
    "\n",
    "print(RANDOM_ARR)\n",
    "\n",
    "\n",
    "# Create an identity matrix of size n * n (Check your output for different values of n)\n",
    "n = 3\n",
    "\n",
    "print(EYE)"
   ]
  }
 ],
 "metadata": {
  "kernelspec": {
   "display_name": "Python 3 (ipykernel)",
   "language": "python",
   "name": "python3"
  },
  "language_info": {
   "codemirror_mode": {
    "name": "ipython",
    "version": 3
   },
   "file_extension": ".py",
   "mimetype": "text/x-python",
   "name": "python",
   "nbconvert_exporter": "python",
   "pygments_lexer": "ipython3",
   "version": "3.11.5"
  }
 },
 "nbformat": 4,
 "nbformat_minor": 5
}
